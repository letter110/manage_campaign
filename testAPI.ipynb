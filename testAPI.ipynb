{
 "cells": [
  {
   "cell_type": "code",
   "execution_count": 1,
   "metadata": {},
   "outputs": [],
   "source": [
    "import requests\n",
    "import json\n"
   ]
  },
  {
   "cell_type": "markdown",
   "metadata": {},
   "source": [
    "### data"
   ]
  },
  {
   "cell_type": "code",
   "execution_count": 20,
   "metadata": {},
   "outputs": [],
   "source": [
    "BASE = \"http://127.0.0.1:8000/\"\n",
    "id = '4f3545aa-bcb7-4d21-b009-b3e71e537fc7'\n",
    "data1 = {\n",
    "    \"id\": \"4f3545aa-bcb7-4d21-b009-b3e71e537fc7\",\n",
    "    \"name\": \"mmmmm\",\n",
    "    \"cutomer_data\": [\n",
    "        {\n",
    "          \"name\": \"duc\",\n",
    "          \"phone_number\": \"012345\",\n",
    "          \"any\": \"maxx\"\n",
    "        }\n",
    "    ],\n",
    "    \"schedule\": {\n",
    "        \"time\": 150,\n",
    "        \"runtime\": 100,\n",
    "        \"loop\": False,\n",
    "        \"isStarting\": False\n",
    "    }\n",
    "}\n",
    "\n",
    "data2 = {\n",
    "    \"id\": \"4f3545aa-bcb7-4d21-b009-b3e71e537fc7\",\n",
    "    \"name\": \"nhpq\",\n",
    "    \"cutomer_data\": [\n",
    "        {\n",
    "          \"name\": \"thu\",\n",
    "          \"phone_number\": \"035489\",\n",
    "          \"any\": \"minn\"\n",
    "        }\n",
    "    ],\n",
    "    \"schedule\": {\n",
    "        \"time\": 150,\n",
    "        \"runtime\": 50,\n",
    "        \"loop\": False,\n",
    "        \"isStarting\": False\n",
    "    }\n",
    "}\n"
   ]
  },
  {
   "cell_type": "markdown",
   "metadata": {},
   "source": [
    "### creating"
   ]
  },
  {
   "cell_type": "code",
   "execution_count": 18,
   "metadata": {},
   "outputs": [
    {
     "name": "stdout",
     "output_type": "stream",
     "text": [
      "{\n",
      "    \"id\": \"4f3545aa-bcb7-4d21-b009-b3e71e537fc7\",\n",
      "    \"name\": \"mmmmm\",\n",
      "    \"cutomer_data\": [\n",
      "        {\n",
      "            \"name\": \"duc\",\n",
      "            \"phone_number\": \"012345\",\n",
      "            \"any\": \"maxx\"\n",
      "        }\n",
      "    ],\n",
      "    \"schedule\": {\n",
      "        \"time\": 150,\n",
      "        \"runtime\": 100,\n",
      "        \"loop\": false,\n",
      "        \"isStarting\": false\n",
      "    }\n",
      "}\n"
     ]
    }
   ],
   "source": [
    "response = requests.post(BASE + 'creating',json=data1)\n",
    "print(json.dumps(response.json(),indent=4))\n"
   ]
  },
  {
   "cell_type": "markdown",
   "metadata": {},
   "source": [
    "### updating"
   ]
  },
  {
   "cell_type": "code",
   "execution_count": 24,
   "metadata": {},
   "outputs": [
    {
     "name": "stdout",
     "output_type": "stream",
     "text": [
      "{\n",
      "    \"id\": \"4f3545aa-bcb7-4d21-b009-b3e71e537fc7\",\n",
      "    \"name\": \"nhpq\",\n",
      "    \"cutomer_data\": [\n",
      "        {\n",
      "            \"name\": \"thu\",\n",
      "            \"phone_number\": \"035489\",\n",
      "            \"any\": \"minn\"\n",
      "        }\n",
      "    ],\n",
      "    \"schedule\": {\n",
      "        \"time\": 150,\n",
      "        \"runtime\": 50,\n",
      "        \"loop\": false,\n",
      "        \"isStarting\": false\n",
      "    }\n",
      "}\n"
     ]
    }
   ],
   "source": [
    "response = requests.put(BASE + 'updating',params={'id':id}, json=data2)\n",
    "print(json.dumps(response.json(), indent=4))\n"
   ]
  },
  {
   "cell_type": "markdown",
   "metadata": {},
   "source": [
    "### starting"
   ]
  },
  {
   "cell_type": "code",
   "execution_count": 27,
   "metadata": {},
   "outputs": [
    {
     "name": "stdout",
     "output_type": "stream",
     "text": [
      "{\n",
      "    \"id\": \"78007dc0-fc3e-11ec-aa2a-c0b88376b4ba\",\n",
      "    \"name\": \"go to school\",\n",
      "    \"cutomer_data\": [\n",
      "        {\n",
      "            \"name\": \"duc\",\n",
      "            \"phone_number\": \"012589\",\n",
      "            \"any\": \"big brain\"\n",
      "        },\n",
      "        {\n",
      "            \"name\": \"thu\",\n",
      "            \"phone_number\": \"024587\",\n",
      "            \"any\": \"big hand\"\n",
      "        },\n",
      "        {\n",
      "            \"name\": \"lanh\",\n",
      "            \"phone_number\": \"036549\",\n",
      "            \"any\": \"so cool\"\n",
      "        },\n",
      "        {\n",
      "            \"name\": \"quang\",\n",
      "            \"phone_number\": \"042985\",\n",
      "            \"any\": \"digital\"\n",
      "        },\n",
      "        {\n",
      "            \"name\": \"le\",\n",
      "            \"phone_number\": \"032569\",\n",
      "            \"any\": \"trap girl\"\n",
      "        }\n",
      "    ],\n",
      "    \"schedule\": {\n",
      "        \"time\": 0,\n",
      "        \"runtime\": 0,\n",
      "        \"loop\": false,\n",
      "        \"isStarting\": true\n",
      "    }\n",
      "}\n"
     ]
    }
   ],
   "source": [
    "id = '78007dc0-fc3e-11ec-aa2a-c0b88376b4ba'\n",
    "response = requests.put(BASE + 'starting', params={'id': id})\n",
    "print(json.dumps(response.json(), indent=4))\n"
   ]
  },
  {
   "cell_type": "markdown",
   "metadata": {},
   "source": [
    "### stoping"
   ]
  },
  {
   "cell_type": "code",
   "execution_count": 28,
   "metadata": {},
   "outputs": [
    {
     "name": "stdout",
     "output_type": "stream",
     "text": [
      "{\n",
      "    \"id\": \"78007dc0-fc3e-11ec-aa2a-c0b88376b4ba\",\n",
      "    \"name\": \"go to school\",\n",
      "    \"cutomer_data\": [\n",
      "        {\n",
      "            \"name\": \"duc\",\n",
      "            \"phone_number\": \"012589\",\n",
      "            \"any\": \"big brain\"\n",
      "        },\n",
      "        {\n",
      "            \"name\": \"thu\",\n",
      "            \"phone_number\": \"024587\",\n",
      "            \"any\": \"big hand\"\n",
      "        },\n",
      "        {\n",
      "            \"name\": \"lanh\",\n",
      "            \"phone_number\": \"036549\",\n",
      "            \"any\": \"so cool\"\n",
      "        },\n",
      "        {\n",
      "            \"name\": \"quang\",\n",
      "            \"phone_number\": \"042985\",\n",
      "            \"any\": \"digital\"\n",
      "        },\n",
      "        {\n",
      "            \"name\": \"le\",\n",
      "            \"phone_number\": \"032569\",\n",
      "            \"any\": \"trap girl\"\n",
      "        }\n",
      "    ],\n",
      "    \"schedule\": {\n",
      "        \"time\": 0,\n",
      "        \"runtime\": 0,\n",
      "        \"loop\": false,\n",
      "        \"isStarting\": false\n",
      "    }\n",
      "}\n"
     ]
    }
   ],
   "source": [
    "response = requests.put(BASE + 'stoping', params={'id': id})\n",
    "print(json.dumps(response.json(), indent=4))\n"
   ]
  },
  {
   "cell_type": "markdown",
   "metadata": {},
   "source": [
    "### disalbling"
   ]
  },
  {
   "cell_type": "code",
   "execution_count": 31,
   "metadata": {},
   "outputs": [
    {
     "name": "stdout",
     "output_type": "stream",
     "text": [
      "{\n",
      "    \"id\": \"78007dc0-fc3e-11ec-aa2a-c0b88376b4ba\",\n",
      "    \"name\": \"go to school\",\n",
      "    \"cutomer_data\": [\n",
      "        {\n",
      "            \"name\": \"duc\",\n",
      "            \"phone_number\": \"012589\",\n",
      "            \"any\": \"big brain\"\n",
      "        },\n",
      "        {\n",
      "            \"name\": \"thu\",\n",
      "            \"phone_number\": \"024587\",\n",
      "            \"any\": \"big hand\"\n",
      "        },\n",
      "        {\n",
      "            \"name\": \"lanh\",\n",
      "            \"phone_number\": \"036549\",\n",
      "            \"any\": \"so cool\"\n",
      "        },\n",
      "        {\n",
      "            \"name\": \"quang\",\n",
      "            \"phone_number\": \"042985\",\n",
      "            \"any\": \"digital\"\n",
      "        },\n",
      "        {\n",
      "            \"name\": \"le\",\n",
      "            \"phone_number\": \"032569\",\n",
      "            \"any\": \"trap girl\"\n",
      "        }\n",
      "    ],\n",
      "    \"schedule\": {\n",
      "        \"time\": 0,\n",
      "        \"runtime\": 0,\n",
      "        \"loop\": false,\n",
      "        \"isStarting\": false\n",
      "    }\n",
      "}\n"
     ]
    }
   ],
   "source": [
    "response = requests.put(BASE + 'disabling', params={'id': id})\n",
    "print(json.dumps(response.json(), indent=4))\n"
   ]
  },
  {
   "cell_type": "markdown",
   "metadata": {},
   "source": [
    "### duplicating"
   ]
  },
  {
   "cell_type": "code",
   "execution_count": 30,
   "metadata": {},
   "outputs": [
    {
     "name": "stdout",
     "output_type": "stream",
     "text": [
      "{\n",
      "    \"id\": \"78007dc0-fc3e-11ec-aa2a-c0b88376b4ba\",\n",
      "    \"name\": \"go to school\",\n",
      "    \"cutomer_data\": [\n",
      "        {\n",
      "            \"name\": \"duc\",\n",
      "            \"phone_number\": \"012589\",\n",
      "            \"any\": \"big brain\"\n",
      "        },\n",
      "        {\n",
      "            \"name\": \"thu\",\n",
      "            \"phone_number\": \"024587\",\n",
      "            \"any\": \"big hand\"\n",
      "        },\n",
      "        {\n",
      "            \"name\": \"lanh\",\n",
      "            \"phone_number\": \"036549\",\n",
      "            \"any\": \"so cool\"\n",
      "        },\n",
      "        {\n",
      "            \"name\": \"quang\",\n",
      "            \"phone_number\": \"042985\",\n",
      "            \"any\": \"digital\"\n",
      "        },\n",
      "        {\n",
      "            \"name\": \"le\",\n",
      "            \"phone_number\": \"032569\",\n",
      "            \"any\": \"trap girl\"\n",
      "        }\n",
      "    ],\n",
      "    \"schedule\": {\n",
      "        \"time\": 0,\n",
      "        \"runtime\": 0,\n",
      "        \"loop\": false,\n",
      "        \"isStarting\": false\n",
      "    }\n",
      "}\n"
     ]
    }
   ],
   "source": [
    "response = requests.put(BASE + 'duplicating', params={'id': id})\n",
    "print(json.dumps(response.json(), indent=4))\n"
   ]
  }
 ],
 "metadata": {
  "kernelspec": {
   "display_name": "Python 3.10.5 64-bit",
   "language": "python",
   "name": "python3"
  },
  "language_info": {
   "codemirror_mode": {
    "name": "ipython",
    "version": 3
   },
   "file_extension": ".py",
   "mimetype": "text/x-python",
   "name": "python",
   "nbconvert_exporter": "python",
   "pygments_lexer": "ipython3",
   "version": "3.10.5"
  },
  "orig_nbformat": 4,
  "vscode": {
   "interpreter": {
    "hash": "a9cff5a362bc38ef45d817ae74b1af54d6a076e3d773891282bce078b815ba34"
   }
  }
 },
 "nbformat": 4,
 "nbformat_minor": 2
}
